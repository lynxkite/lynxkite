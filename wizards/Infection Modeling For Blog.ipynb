{
 "cells": [
  {
   "cell_type": "code",
   "execution_count": 74,
   "metadata": {},
   "outputs": [],
   "source": [
    "import lynx.kite\n",
    "from lynx.kite import pp, text, subworkspace, WorkspaceParameter"
   ]
  },
  {
   "cell_type": "code",
   "execution_count": 75,
   "metadata": {},
   "outputs": [],
   "source": [
    "lk = lynx.kite.LynxKite()"
   ]
  },
  {
   "cell_type": "code",
   "execution_count": 76,
   "metadata": {},
   "outputs": [],
   "source": [
    "@lk.workspace(name='custom_boxes/one-step', parameters=[text('seed'), text('day')])\n",
    "def one_step(input_graph):\n",
    "    return (input_graph\n",
    "        .addRandomVertexAttribute(\n",
    "             name='cured_random', dist='Standard Uniform', seed=pp('${11223344 + seed.toInt}'))\n",
    "        .deriveVertexAttribute(output='cured', expr='Math.max(cured, if (cured_random < 0.1) infected else 0)')\n",
    "        .deriveVertexAttribute(output='infectious', expr='infected - cured')\n",
    "        .aggregateOnNeighbors(direction='all neighbors', aggregate_infectious='sum')\n",
    "        .fillVertexAttributesWithConstantDefaultValues(fill_neighborhood_infectious_sum='0')\n",
    "        .addRandomVertexAttribute(name='infect_random', dist='Standard Uniform', seed=pp('${665544 + seed.toInt}'))\n",
    "        .deriveVertexAttribute(\n",
    "            expr='''\n",
    "           val p = 1.0 - Math.pow(0.9, neighborhood_infectious_sum)\n",
    "           Math.max(infected, if (infection_random < p) 1 else 0)''',\n",
    "            output='infected')\n",
    "        .deriveVertexAttribute(defined_attrs='false', output='infection_day', expr=pp('''val today: Option[Double] = if (infected.get > 0) Some($day) else None\n",
    "infection_day.orElse(today)''')))"
   ]
  },
  {
   "cell_type": "code",
   "execution_count": 77,
   "metadata": {},
   "outputs": [],
   "source": [
    "@lk.workspace(name='custom_boxes/big-component-only')\n",
    "def big_component_only(input_graph):\n",
    "    return (input_graph\n",
    "        .findConnectedComponents()\n",
    "        .filterByAttributes(apply_to_graph='.connected_components', filterva_size='>20000')\n",
    "        .aggregateFromSegmentation(apply_to_graph='.connected_components', aggregate_id='count')\n",
    "        .filterByAttributes(filterva_connected_components_id_count='1')\n",
    "        .addReversedEdges()\n",
    "        .mergeParallelEdges())"
   ]
  },
  {
   "cell_type": "code",
   "execution_count": 78,
   "metadata": {},
   "outputs": [],
   "source": [
    "@lk.workspace(name='custom_boxes/simulate')\n",
    "def sim(input_graph):\n",
    "    state = (input_graph\n",
    "      .addRandomVertexAttribute(dist='Standard Uniform', name='infection_random', seed='999777')\n",
    "      .deriveVertexAttribute(output='infected', expr='if (infection_random < 0.001) 1.0 else 0.0')\n",
    "      .addConstantVertexAttribute(value='0', name='cured')\n",
    "      .deriveVertexAttribute(output='infection_day', expr='if (infected > 0) Some(0) else None'))\n",
    "    for i in range(15):\n",
    "        state = one_step(state, seed=str(i), day=str(i+1))\n",
    "    return state"
   ]
  },
  {
   "cell_type": "code",
   "execution_count": 79,
   "metadata": {},
   "outputs": [],
   "source": [
    "@lk.workspace(name='custom_boxes/evaluate')\n",
    "def evaluate(sim_result):\n",
    "    vis = sim_result.graphVisualization(state='{\\\"left\\\":{\\\"projectPath\\\":\\\"\\\",\\\"graphMode\\\":\\\"sampled\\\",\\\"display\\\":\\\"svg\\\",\\\"filters\\\":{\\\"vertex\\\":{},\\\"edge\\\":{}},\\\"bucketCount\\\":4,\\\"preciseBucketSizes\\\":false,\\\"relativeEdgeDensity\\\":false,\\\"axisOptions\\\":{\\\"vertex\\\":{},\\\"edge\\\":{}},\\\"sampleRadius\\\":1,\\\"attributeTitles\\\":{\\\"slider\\\":\\\"infection_day\\\"},\\\"animate\\\":{\\\"enabled\\\":false,\\\"style\\\":\\\"expand\\\",\\\"labelAttraction\\\":0},\\\"centers\\\":[\\\"127026020011224340\\\",\\\"663548610163526017\\\",\\\"817735316159868271\\\",\\\"971666669170605812\\\",\\\"1847406081303664676\\\"],\\\"customVisualizationFilters\\\":true,\\\"vertexColorMap\\\":\\\"Viridis\\\",\\\"labelColorMap\\\":\\\"Viridis\\\",\\\"edgeColorMap\\\":\\\"Viridis\\\",\\\"sliderColorMap\\\":\\\"Blue to orange\\\",\\\"lastCentersRequest\\\":{\\\"count\\\":5,\\\"filters\\\":[{\\\"attributeName\\\":\\\"infection_day\\\",\\\"valueSpec\\\":\\\"0\\\"}]},\\\"lastCentersResponse\\\":[\\\"127026020011224340\\\",\\\"663548610163526017\\\",\\\"817735316159868271\\\",\\\"971666669170605812\\\",\\\"1847406081303664676\\\"]},\\\"right\\\":{\\\"display\\\":\\\"svg\\\",\\\"filters\\\":{\\\"vertex\\\":{},\\\"edge\\\":{}},\\\"bucketCount\\\":4,\\\"preciseBucketSizes\\\":false,\\\"relativeEdgeDensity\\\":false,\\\"axisOptions\\\":{\\\"vertex\\\":{},\\\"edge\\\":{}},\\\"sampleRadius\\\":1,\\\"attributeTitles\\\":{},\\\"animate\\\":{\\\"enabled\\\":false,\\\"style\\\":\\\"expand\\\",\\\"labelAttraction\\\":0},\\\"centers\\\":[\\\"auto\\\"],\\\"customVisualizationFilters\\\":false,\\\"vertexColorMap\\\":\\\"Viridis\\\",\\\"labelColorMap\\\":\\\"Viridis\\\",\\\"edgeColorMap\\\":\\\"Viridis\\\",\\\"sliderColorMap\\\":\\\"Blue to orange\\\"}}')\n",
    "    daily_data = sim_result.sql(\n",
    "        '''select infection_day, count(User_ID) as count from vertices where infection_day is not null group by infection_day order by infection_day\n",
    "''',\n",
    "        persist='no')\n",
    "    daily_plot = daily_data.customPlot(plot_code='''Vegas()\n",
    "      .withData(table)\n",
    "      .encodeX(\\\"infection_day\\\", Nom)\n",
    "      .encodeY(\\\"count\\\", Quant)\n",
    "      .mark(Bar)''')\n",
    "    total = sim_result.sql('''select sum(infected) from vertices''')\n",
    "    return {'graph': vis, 'daily_data': daily_data, 'daily_plot': daily_plot, 'total': total}"
   ]
  },
  {
   "cell_type": "code",
   "execution_count": 80,
   "metadata": {},
   "outputs": [],
   "source": [
    "@lk.workspace(\n",
    "    name='custom_boxes/drop-vertices',\n",
    "    parameters=[WorkspaceParameter('attribute', 'vertex attribute (number)'), text('number_to_drop', '0')])\n",
    "def drop_vertices(original):\n",
    "    return (original\n",
    "      .addRankAttribute(order='descending', keyattr=pp('$attribute'))\n",
    "      .filterByAttributes(filterva_ranking=pp('>=$number_to_drop')))"
   ]
  },
  {
   "cell_type": "code",
   "execution_count": 81,
   "metadata": {},
   "outputs": [],
   "source": [
    "@lk.workspace(\n",
    "    name='custom_boxes/drop-edges',\n",
    "    parameters=[WorkspaceParameter('attribute', 'edge attribute (number)'), text('number_to_drop', '0')])\n",
    "def drop_edges(original):\n",
    "    edge_ranking = lk.graphRejoin(\n",
    "        original,\n",
    "        original\n",
    "          .takeEdgesAsVertices()\n",
    "          .addRankAttribute(order='descending', rankattr='edge_ranking', keyattr=pp('edge_$attribute')),\n",
    "        apply_to_target='!edges',\n",
    "        attrs='edge_ranking')\n",
    "    return edge_ranking.filterByAttributes(filterea_edge_ranking=pp('>=$number_to_drop'))"
   ]
  },
  {
   "cell_type": "code",
   "execution_count": 82,
   "metadata": {},
   "outputs": [],
   "source": [
    "graph = big_component_only(lk.importSnapshot(path='PokecGraph'))\n",
    "with_attributes = (graph\n",
    "  .computePageRank(direction='all edges')\n",
    "  .addRandomVertexAttribute(dist='Standard Uniform', seed='42')\n",
    "  .computeDegree()\n",
    "  .addRandomEdgeAttribute(dist='Standard Uniform', seed='43')\n",
    "  .computeDispersion()\n",
    "  .deriveEdgeAttribute(output='endpoint_degree_sum', expr='src$degree + dst$degree')\n",
    "  .deriveEdgeAttribute(output='endpoint_degree_product', expr='src$degree * dst$degree')\n",
    "  .discardVertexAttributes(name='Age,Gender,Last_Login_Days,Region,Registration_Days,connected_components_id_count')\n",
    "  .discardEdgeAttributes(name='normalized_dispersion')\n",
    ")\n",
    "\n",
    "vertices_kept = drop_vertices(with_attributes, attribute='random', number_to_drop='0').discardEdges()\n",
    "edges_kept = drop_edges(with_attributes, attribute='random', number_to_drop='0')\n",
    "\n",
    "reconstructed = lk.graphRejoin(vertices_kept, edges_kept, edge='yes')\n",
    "\n",
    "drop_statistics = lk.sql2(with_attributes, reconstructed, sql='''select `one.graph_attributes`.`!vertex_count` - `two.graph_attributes`.`!vertex_count` as `Vertices Dropped`, `one.graph_attributes`.`!edge_count` - `two.graph_attributes`.`!edge_count` as `Edges Dropped` from `one.graph_attributes` CROSS JOIN `two.graph_attributes`\n",
    "''')\n",
    "\n",
    "sim_result = sim(reconstructed)\n",
    "\n",
    "on_original = lk.graphRejoin(graph, sim_result, attrs='infection_day,infected')\n",
    "\n",
    "evaluation = evaluate(on_original)\n",
    "\n",
    "res = [evaluation, drop_statistics]\n"
   ]
  },
  {
   "cell_type": "code",
   "execution_count": 84,
   "metadata": {},
   "outputs": [
    {
     "data": {
      "text/plain": [
       "'Infection Modeling'"
      ]
     },
     "execution_count": 84,
     "metadata": {},
     "output_type": "execute_result"
    }
   ],
   "source": [
    "ws = lynx.kite.Workspace(name='Infection Modeling', terminal_boxes=res)\n",
    "ws.save(\"\")"
   ]
  },
  {
   "cell_type": "code",
   "execution_count": 71,
   "metadata": {},
   "outputs": [
    {
     "data": {
      "text/plain": [
       "<matplotlib.axes._subplots.AxesSubplot at 0x7fcb5eef4e10>"
      ]
     },
     "execution_count": 71,
     "metadata": {},
     "output_type": "execute_result"
    },
    {
     "data": {
      "image/png": "[encoded data removed]",
      "text/plain": [
       "<Figure size 432x288 with 1 Axes>"
      ]
     },
     "metadata": {
      "needs_background": "light"
     },
     "output_type": "display_data"
    }
   ],
   "source": [
    "evaluation['daily_data'].df()['count'].plot()"
   ]
  },
  {
   "cell_type": "code",
   "execution_count": null,
   "metadata": {},
   "outputs": [],
   "source": []
  }
 ],
 "metadata": {
  "kernelspec": {
   "display_name": "Python 3",
   "language": "python",
   "name": "python3"
  },
  "language_info": {
   "codemirror_mode": {
    "name": "ipython",
    "version": 3
   },
   "file_extension": ".py",
   "mimetype": "text/x-python",
   "name": "python",
   "nbconvert_exporter": "python",
   "pygments_lexer": "ipython3",
   "version": "3.7.7"
  }
 },
 "nbformat": 4,
 "nbformat_minor": 4
}
