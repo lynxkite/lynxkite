{
 "cells": [
  {
   "cell_type": "markdown",
   "metadata": {},
   "source": [
    "# LK2 Python API | Automation"
   ]
  },
  {
   "cell_type": "markdown",
   "metadata": {},
   "source": [
    "## Small example graph\n",
    "We will count the number of connected components in a (call-)graph."
   ]
  },
  {
   "cell_type": "code",
   "execution_count": null,
   "metadata": {},
   "outputs": [],
   "source": [
    "import lynx.kite\n",
    "\n",
    "lk = lynx.kite.LynxKite()"
   ]
  },
  {
   "cell_type": "code",
   "execution_count": null,
   "metadata": {},
   "outputs": [],
   "source": [
    "# First we use a random graph as input\n",
    "\n",
    "graph = lk.createVertices(size=1000).createRandomEdges(degree=2, seed=12345)\n",
    "component_metrics = graph.findConnectedComponents().sql('''\n",
    "select \n",
    "max(size) as max_size,\n",
    "min(size) as min_size,\n",
    "count(*) as num_components\n",
    "from `connected_components.vertices`''')\n",
    "\n",
    "component_metrics.df()"
   ]
  },
  {
   "cell_type": "markdown",
   "metadata": {},
   "source": [
    "## Automating a workspace\n",
    "To automate the above code, \n",
    "- we need to put it into a `Workspace` (can be done easily using the `@lk.workspace()` decorator\n",
    "- and we have to create a `WorkspaceSequence` which defines the scheduling of the workspace.\n",
    "\n",
    "The schedule parameter of the `WorkspaceSequence` is a cron expression. (For example `'0 6 * * *'` means \"at 6am every day\".)"
   ]
  },
  {
   "cell_type": "markdown",
   "metadata": {},
   "source": [
    "<center><h3>See Python source file</h3></center>\n",
    "![python_source.png](python_source.png)"
   ]
  },
  {
   "cell_type": "code",
   "execution_count": null,
   "metadata": {},
   "outputs": [],
   "source": [
    "print(open('tedx_v1.py').read())"
   ]
  },
  {
   "cell_type": "markdown",
   "metadata": {},
   "source": [
    "<center><h3>Airflow demo</h3></center>\n",
    "![airflow_icon.png](airflow_icon.png)"
   ]
  },
  {
   "cell_type": "markdown",
   "metadata": {},
   "source": [
    "## Using the execution date in automation\n",
    "If the automated workspace has a workspace parameter called `date`,\n",
    "then Airflow will automatically pass the execution date to the\n",
    "workspace (converted to string)."
   ]
  },
  {
   "cell_type": "markdown",
   "metadata": {},
   "source": [
    "<center><h3>See Python source file</h3></center>\n",
    "![python_source.png](python_source.png)"
   ]
  },
  {
   "cell_type": "code",
   "execution_count": null,
   "metadata": {},
   "outputs": [],
   "source": [
    "import tedx_v2\n",
    "components_by_date_wss = tedx_v2.get_components_by_date_wss(lk)\n",
    "print(open('tedx_v2.py').read())"
   ]
  },
  {
   "cell_type": "markdown",
   "metadata": {},
   "source": [
    "<center><h3>Airflow demo</h3></center>\n",
    "![airflow_icon.png](airflow_icon.png)"
   ]
  },
  {
   "cell_type": "markdown",
   "metadata": {},
   "source": [
    "## Accessing outputs of automation: snapshot sequences\n",
    "Workspaces sequences automatically save the ouputs into snapshot sequences.\n",
    "We can access these snapshots using the `SnapshotSequence` or `TableSnapshotSequence`\n",
    "classes."
   ]
  },
  {
   "cell_type": "code",
   "execution_count": null,
   "metadata": {},
   "outputs": [],
   "source": [
    "from datetime import datetime\n",
    "\n",
    "# Using one output\n",
    "# It needs the first output of the automation\n",
    "\n",
    "result_sequence = components_by_date_wss.output_sequences['metrics']\n",
    "one_output = result_sequence.read_date(datetime(2018,7,13,0,30))\n",
    "one_output.df()"
   ]
  },
  {
   "cell_type": "code",
   "execution_count": null,
   "metadata": {},
   "outputs": [],
   "source": [
    "# Using union of output tables\n",
    "# It needs the first five output of the automation\n",
    "\n",
    "union_of_outputs = result_sequence.read_interval(datetime(2018,7,13,0,30),datetime(2018,7,13,4,30))\n",
    "union_of_outputs.df()"
   ]
  },
  {
   "cell_type": "code",
   "execution_count": null,
   "metadata": {},
   "outputs": [],
   "source": [
    "# Working with outputs\n",
    "union_of_outputs.sql('''\n",
    "select date_id, num_components as max_num\n",
    "from input \n",
    "where num_components=(select max(num_components) from input)''').df()"
   ]
  },
  {
   "cell_type": "markdown",
   "metadata": {},
   "source": [
    "## Input recipes"
   ]
  },
  {
   "cell_type": "code",
   "execution_count": null,
   "metadata": {},
   "outputs": [],
   "source": [
    "input_folder = '/home/petererben/biggraph-dev/remote_api/python/documentation/tedx/automation/input'\n",
    "\n",
    "def input_generator(date):\n",
    "    import random\n",
    "    path = input_folder + '/' + date.strftime(\"%Y-%m-%d-%H-%M\") + '.csv'\n",
    "    marker = input_folder + '/' + date.strftime(\"%Y-%m-%d-%H-%M\") + '.SUCCESS'\n",
    "    with open(path, 'w') as f:\n",
    "        f.write('src,dst\\n')\n",
    "        for i in range(2000):\n",
    "            src=random.randint(1,1000)\n",
    "            dst=random.randint(1,1000)\n",
    "            f.write(f'{src},{dst}\\n')\n",
    "    with open(marker, 'w') as f:\n",
    "        f.write('READY')"
   ]
  },
  {
   "cell_type": "markdown",
   "metadata": {},
   "source": [
    "<center><h3>See Python source file</h3></center>\n",
    "![python_source.png](python_source.png)"
   ]
  },
  {
   "cell_type": "code",
   "execution_count": null,
   "metadata": {},
   "outputs": [],
   "source": [
    "import tedx_v3\n",
    "\n",
    "example_date = datetime(2018,7,13,0,30)\n",
    "\n",
    "# Define recipe\n",
    "csv_recipe = tedx_v3.CSVRecipe(input_folder, lk)\n",
    "\n",
    "# Target name\n",
    "print(csv_recipe.full_path(example_date))\n",
    "\n",
    "# Remove if exists\n",
    "try:\n",
    "    os.remove(csv_recipe.full_path(example_date))\n",
    "    os.remove(csv_recipe.marker(example_date))\n",
    "except:\n",
    "    pass\n",
    "\n",
    "# Check\n",
    "print(csv_recipe.is_ready(example_date))\n",
    "\n",
    "# Create\n",
    "input_generator(example_date)\n",
    "\n",
    "# Re-check\n",
    "print(csv_recipe.is_ready(example_date))\n",
    "\n",
    "# Load\n",
    "csv_recipe.build_boxes(example_date).sql('select * from input limit 5').df()\n"
   ]
  },
  {
   "cell_type": "markdown",
   "metadata": {},
   "source": [
    "<center><h3>See Python source file</h3></center>\n",
    "![python_source.png](python_source.png)"
   ]
  },
  {
   "cell_type": "code",
   "execution_count": null,
   "metadata": {},
   "outputs": [],
   "source": [
    "components_from_inputs_wss = tedx_v3.get_components_from_inputs_wss(input_folder, lk)\n",
    "print(open('tedx_v3.py').read())"
   ]
  },
  {
   "cell_type": "markdown",
   "metadata": {},
   "source": [
    "<center><h3>Airflow demo</h3></center>\n",
    "![airflow_icon.png](airflow_icon.png)"
   ]
  },
  {
   "cell_type": "markdown",
   "metadata": {},
   "source": [
    "**Note**: the demo uses Airflow's sequential executor which does not allow parallel task execution. "
   ]
  },
  {
   "cell_type": "markdown",
   "metadata": {},
   "source": [
    "<center><h3>Input genration</h3></center>\n",
    "![csv_icon.png](csv_icon.png)\n"
   ]
  },
  {
   "cell_type": "code",
   "execution_count": null,
   "metadata": {},
   "outputs": [],
   "source": [
    "import croniter\n",
    "iter = croniter.croniter('30 * * * *', datetime(2018, 7, 13))\n",
    "for i in range(100):\n",
    "    input_generator(iter.next(datetime))"
   ]
  },
  {
   "cell_type": "markdown",
   "metadata": {},
   "source": [
    "<center><h3>Airflow demo</h3></center>\n",
    "![airflow_icon.png](airflow_icon.png)"
   ]
  },
  {
   "cell_type": "markdown",
   "metadata": {},
   "source": [
    "## Automated exports (automation side effects)"
   ]
  },
  {
   "cell_type": "markdown",
   "metadata": {},
   "source": [
    "<center><h3>See Python source file</h3></center>\n",
    "![python_source.png](python_source.png)"
   ]
  },
  {
   "cell_type": "code",
   "execution_count": null,
   "metadata": {},
   "outputs": [],
   "source": [
    "# Double $ is Scala escaping, the folder will be used as a parametric parameter\n",
    "output_folder = 'DATA$$/tedx/automation/output'\n",
    "print(open('tedx_v4.py').read())"
   ]
  },
  {
   "cell_type": "markdown",
   "metadata": {},
   "source": [
    "<center><h3>Airflow demo</h3></center>\n",
    "![airflow_icon.png](airflow_icon.png)"
   ]
  },
  {
   "cell_type": "code",
   "execution_count": null,
   "metadata": {},
   "outputs": [],
   "source": [
    "# Check result\n",
    "folder = lk.get_prefixed_path('DATA$/tedx/automation/output').resolved.split(':')[1]\n",
    "\n",
    "import glob\n",
    "list = glob.glob(folder + '/*')\n",
    "\n",
    "list"
   ]
  }
 ],
 "metadata": {
  "kernelspec": {
   "display_name": "Python 3",
   "language": "python",
   "name": "python3"
  },
  "language_info": {
   "codemirror_mode": {
    "name": "ipython",
    "version": 3
   },
   "file_extension": ".py",
   "mimetype": "text/x-python",
   "name": "python",
   "nbconvert_exporter": "python",
   "pygments_lexer": "ipython3",
   "version": "3.6.4"
  }
 },
 "nbformat": 4,
 "nbformat_minor": 2
}
