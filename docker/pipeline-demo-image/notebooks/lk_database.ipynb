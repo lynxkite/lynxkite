{
 "cells": [
  {
   "cell_type": "code",
   "execution_count": null,
   "metadata": {},
   "outputs": [],
   "source": [
    "JDBC_URL='jdbc:postgresql://localhost:5432/kite?user=kite&password=kite'\n",
    "import lynx.kite\n",
    "lk = lynx.kite.LynxKite()\n",
    "\n",
    "a = lk.createExampleGraph()\n",
    "b = lk.sql1(a, sql='select name,age from vertices')\n",
    "lk.exportToJDBCNow(b, jdbc_url=JDBC_URL, jdbc_table='output')\n",
    "\n",
    "c=lk.importJDBCNow(jdbc_table='output', jdbc_url=JDBC_URL)\n",
    "lk.sql1(c).df()"
   ]
  }
 ],
 "metadata": {
  "kernelspec": {
   "display_name": "Python 3",
   "language": "python",
   "name": "python3"
  },
  "language_info": {
   "codemirror_mode": {
    "name": "ipython",
    "version": 3
   },
   "file_extension": ".py",
   "mimetype": "text/x-python",
   "name": "python",
   "nbconvert_exporter": "python",
   "pygments_lexer": "ipython3",
   "version": "3.6.9"
  }
 },
 "nbformat": 4,
 "nbformat_minor": 2
}
