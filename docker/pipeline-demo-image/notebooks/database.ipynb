{
 "cells": [
  {
   "cell_type": "code",
   "execution_count": null,
   "metadata": {},
   "outputs": [],
   "source": [
    "import psycopg2\n",
    "\n",
    "HOST = 'localhost'\n",
    "USER = 'kite'\n",
    "PASSWORD = 'kite'\n",
    "DB = 'kite'\n",
    "\n",
    "def query(conn) :\n",
    "    cur = conn.cursor()\n",
    "    cur.execute(\"SELECT name, age FROM output\")\n",
    "    print(cur.fetchall())\n",
    "\n",
    "conn = psycopg2.connect(host=HOST, user=USER, password=PASSWORD, dbname=DB)\n",
    "query(conn)\n",
    "conn.close()"
   ]
  }
 ],
 "metadata": {
  "kernelspec": {
   "display_name": "Python 3",
   "language": "python",
   "name": "python3"
  },
  "language_info": {
   "codemirror_mode": {
    "name": "ipython",
    "version": 3
   },
   "file_extension": ".py",
   "mimetype": "text/x-python",
   "name": "python",
   "nbconvert_exporter": "python",
   "pygments_lexer": "ipython3",
   "version": "3.6.9"
  }
 },
 "nbformat": 4,
 "nbformat_minor": 2
}
