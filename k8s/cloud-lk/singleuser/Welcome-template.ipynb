{
 "cells": [
  {
   "cell_type": "markdown",
   "metadata": {},
   "source": [
    "# Your LynxKite demo instance is ready!\n",
    "\n",
    "<a href=\"${LYNXKITE_ADDRESS}/signedUsernameLogin?token=${LYNXKITE_SIGNED_TOKEN_URL}\"\n",
    "   rel=\"noopener\" target=\"_blank\"\n",
    "   style=\"\n",
    "       background: #004165;\n",
    "       border-radius: 20px;\n",
    "       display: inline-block;\n",
    "       text-decoration: none;\n",
    "       color: white;\n",
    "       padding: 10px 15px;\n",
    "       font-weight: bold;\n",
    "       \">\n",
    "    Go to LynxKite ▸\n",
    "</a>\n",
    "\n",
    "For more information and tutorials see the [LynxKite documentation](https://lynxkite.com/docs).\n",
    "\n",
    "### Python API Quickstart"
   ]
  },
  {
   "cell_type": "code",
   "execution_count": 1,
   "metadata": {},
   "outputs": [
    {
     "data": {
      "text/html": [
       "<div>\n",
       "<style scoped>\n",
       "    .dataframe tbody tr th:only-of-type {\n",
       "        vertical-align: middle;\n",
       "    }\n",
       "\n",
       "    .dataframe tbody tr th {\n",
       "        vertical-align: top;\n",
       "    }\n",
       "\n",
       "    .dataframe thead th {\n",
       "        text-align: right;\n",
       "    }\n",
       "</style>\n",
       "<table border=\"1\" class=\"dataframe\">\n",
       "  <thead>\n",
       "    <tr style=\"text-align: right;\">\n",
       "      <th></th>\n",
       "      <th>age</th>\n",
       "      <th>gender</th>\n",
       "      <th>id</th>\n",
       "      <th>income</th>\n",
       "      <th>location</th>\n",
       "      <th>name</th>\n",
       "      <th>page_rank</th>\n",
       "    </tr>\n",
       "  </thead>\n",
       "  <tbody>\n",
       "    <tr>\n",
       "      <th>0</th>\n",
       "      <td>20.3</td>\n",
       "      <td>Male</td>\n",
       "      <td>0.0</td>\n",
       "      <td>1000.0</td>\n",
       "      <td>(40.71448,-74.00598)</td>\n",
       "      <td>Adam</td>\n",
       "      <td>1.809173</td>\n",
       "    </tr>\n",
       "    <tr>\n",
       "      <th>1</th>\n",
       "      <td>18.2</td>\n",
       "      <td>Female</td>\n",
       "      <td>1.0</td>\n",
       "      <td>NaN</td>\n",
       "      <td>(47.5269674,19.0323968)</td>\n",
       "      <td>Eve</td>\n",
       "      <td>1.809173</td>\n",
       "    </tr>\n",
       "    <tr>\n",
       "      <th>2</th>\n",
       "      <td>50.3</td>\n",
       "      <td>Male</td>\n",
       "      <td>2.0</td>\n",
       "      <td>2000.0</td>\n",
       "      <td>(1.352083,103.819836)</td>\n",
       "      <td>Bob</td>\n",
       "      <td>0.190827</td>\n",
       "    </tr>\n",
       "    <tr>\n",
       "      <th>3</th>\n",
       "      <td>2.0</td>\n",
       "      <td>Male</td>\n",
       "      <td>3.0</td>\n",
       "      <td>NaN</td>\n",
       "      <td>(-33.8674869,151.2069902)</td>\n",
       "      <td>Isolated Joe</td>\n",
       "      <td>0.190827</td>\n",
       "    </tr>\n",
       "  </tbody>\n",
       "</table>\n",
       "</div>"
      ],
      "text/plain": [
       "    age  gender   id  income                   location          name  \\\n",
       "0  20.3    Male  0.0  1000.0       (40.71448,-74.00598)          Adam   \n",
       "1  18.2  Female  1.0     NaN    (47.5269674,19.0323968)           Eve   \n",
       "2  50.3    Male  2.0  2000.0      (1.352083,103.819836)           Bob   \n",
       "3   2.0    Male  3.0     NaN  (-33.8674869,151.2069902)  Isolated Joe   \n",
       "\n",
       "   page_rank  \n",
       "0   1.809173  \n",
       "1   1.809173  \n",
       "2   0.190827  \n",
       "3   0.190827  "
      ]
     },
     "execution_count": 1,
     "metadata": {},
     "output_type": "execute_result"
    }
   ],
   "source": [
    "import lynx.kite\n",
    "lk = lynx.kite.LynxKite()\n",
    "graph = lk.createExampleGraph().computePageRank()\n",
    "graph.sql('select * from vertices').df()"
   ]
  },
  {
   "cell_type": "markdown",
   "metadata": {},
   "source": [
    "See `Tutorials/Introduction.ipynb` for a complete introduction to the Python API.\n",
    "\n",
    "### About this demo environment\n",
    "\n",
    "This is a temporary demo instance hosted by Lynx Analytics.\n",
    "The demo instance is all yours: feel free to `!pip install` any packages you like.\n",
    "It will shut down after 1 hour of inactivity.\n",
    "Your notebooks and LynxKite workspaces will persist across restarts.\n",
    "But we may occasionally wipe out all user data for maintenance reasons.\n",
    "Don't store anything important here.\n",
    "\n",
    "Using this LynxKite demo is subject to the [LynxKite Evaluation User License](https://lynxkite.com/evaluation-terms-and-conditions).\n",
    "\n",
    "### Reporting issues\n",
    "\n",
    "Please send an email to lynxkite@lynxanalytics.com."
   ]
  }
 ],
 "metadata": {
  "kernelspec": {
   "display_name": "Python 3",
   "language": "python",
   "name": "python3"
  },
  "language_info": {
   "codemirror_mode": {
    "name": "ipython",
    "version": 3
   },
   "file_extension": ".py",
   "mimetype": "text/x-python",
   "name": "python",
   "nbconvert_exporter": "python",
   "pygments_lexer": "ipython3",
   "version": "3.7.3"
  }
 },
 "nbformat": 4,
 "nbformat_minor": 4
}
